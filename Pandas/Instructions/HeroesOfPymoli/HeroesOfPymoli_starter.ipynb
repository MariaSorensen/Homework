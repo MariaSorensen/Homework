{
 "cells": [
  {
   "cell_type": "markdown",
   "metadata": {},
   "source": [
    "### Heroes Of Pymoli Data Analysis\n",
    "* Of the 1163 active players, the vast majority are male (84%). There also exists, a smaller, but notable proportion of female players (14%).\n",
    "\n",
    "* Our peak age demographic falls between 20-24 (44.8%) with secondary groups falling between 15-19 (18.60%) and 25-29 (13.4%).  \n",
    "-----"
   ]
  },
  {
   "cell_type": "markdown",
   "metadata": {},
   "source": [
    "### Note\n",
    "* Instructions have been included for each segment. You do not have to follow them exactly, but they are included to help you think through the steps."
   ]
  },
  {
   "cell_type": "code",
   "execution_count": 417,
   "metadata": {},
   "outputs": [
    {
     "data": {
      "text/html": [
       "<div>\n",
       "<style scoped>\n",
       "    .dataframe tbody tr th:only-of-type {\n",
       "        vertical-align: middle;\n",
       "    }\n",
       "\n",
       "    .dataframe tbody tr th {\n",
       "        vertical-align: top;\n",
       "    }\n",
       "\n",
       "    .dataframe thead th {\n",
       "        text-align: right;\n",
       "    }\n",
       "</style>\n",
       "<table border=\"1\" class=\"dataframe\">\n",
       "  <thead>\n",
       "    <tr style=\"text-align: right;\">\n",
       "      <th></th>\n",
       "      <th>Purchase ID</th>\n",
       "      <th>SN</th>\n",
       "      <th>Age</th>\n",
       "      <th>Gender</th>\n",
       "      <th>Item ID</th>\n",
       "      <th>Item Name</th>\n",
       "      <th>Price</th>\n",
       "    </tr>\n",
       "  </thead>\n",
       "  <tbody>\n",
       "    <tr>\n",
       "      <th>0</th>\n",
       "      <td>0</td>\n",
       "      <td>Lisim78</td>\n",
       "      <td>20</td>\n",
       "      <td>Male</td>\n",
       "      <td>108</td>\n",
       "      <td>Extraction, Quickblade Of Trembling Hands</td>\n",
       "      <td>3.53</td>\n",
       "    </tr>\n",
       "    <tr>\n",
       "      <th>1</th>\n",
       "      <td>1</td>\n",
       "      <td>Lisovynya38</td>\n",
       "      <td>40</td>\n",
       "      <td>Male</td>\n",
       "      <td>143</td>\n",
       "      <td>Frenzied Scimitar</td>\n",
       "      <td>1.56</td>\n",
       "    </tr>\n",
       "  </tbody>\n",
       "</table>\n",
       "</div>"
      ],
      "text/plain": [
       "   Purchase ID           SN  Age Gender  Item ID  \\\n",
       "0            0      Lisim78   20   Male      108   \n",
       "1            1  Lisovynya38   40   Male      143   \n",
       "\n",
       "                                   Item Name  Price  \n",
       "0  Extraction, Quickblade Of Trembling Hands   3.53  \n",
       "1                          Frenzied Scimitar   1.56  "
      ]
     },
     "execution_count": 417,
     "metadata": {},
     "output_type": "execute_result"
    }
   ],
   "source": [
    "# Dependencies and Setup\n",
    "import pandas as pd\n",
    "import numpy as np\n",
    "\n",
    "# File to Load (Remember to Change These)\n",
    "file_to_load = \"Resources/purchase_data.csv\"\n",
    "\n",
    "# Read Purchasing File and store into Pandas df frame\n",
    "purchase_df = pd.read_csv(file_to_load)\n",
    "\n",
    "#purchase_df.set_index('Gender', inplace = True)\n",
    "purchase_df.round(2)\n",
    "purchase_df.head(2)"
   ]
  },
  {
   "cell_type": "markdown",
   "metadata": {},
   "source": [
    "## Player Count"
   ]
  },
  {
   "cell_type": "markdown",
   "metadata": {},
   "source": [
    "* Display the total number of players\n"
   ]
  },
  {
   "cell_type": "code",
   "execution_count": 376,
   "metadata": {},
   "outputs": [
    {
     "data": {
      "text/html": [
       "<div>\n",
       "<style scoped>\n",
       "    .dataframe tbody tr th:only-of-type {\n",
       "        vertical-align: middle;\n",
       "    }\n",
       "\n",
       "    .dataframe tbody tr th {\n",
       "        vertical-align: top;\n",
       "    }\n",
       "\n",
       "    .dataframe thead th {\n",
       "        text-align: right;\n",
       "    }\n",
       "</style>\n",
       "<table border=\"1\" class=\"dataframe\">\n",
       "  <thead>\n",
       "    <tr style=\"text-align: right;\">\n",
       "      <th></th>\n",
       "      <th>Total Players</th>\n",
       "    </tr>\n",
       "  </thead>\n",
       "  <tbody>\n",
       "    <tr>\n",
       "      <th>0</th>\n",
       "      <td>576</td>\n",
       "    </tr>\n",
       "  </tbody>\n",
       "</table>\n",
       "</div>"
      ],
      "text/plain": [
       "   Total Players\n",
       "0            576"
      ]
     },
     "execution_count": 376,
     "metadata": {},
     "output_type": "execute_result"
    }
   ],
   "source": [
    "# row count of the dataframe to display the total number of players\n",
    "#len(DataFrame.unique())\n",
    "# df.shape[0]\n",
    "Num_Players = len(purchase_df[\"SN\"].value_counts())\n",
    "tp_df =  pd.DataFrame({\"Total Players\": [Num_Players]})\n",
    "tp_df"
   ]
  },
  {
   "cell_type": "markdown",
   "metadata": {},
   "source": [
    "## Purchasing Analysis (Total)"
   ]
  },
  {
   "cell_type": "markdown",
   "metadata": {},
   "source": [
    "* Run basic calculations to obtain number of unique items, average price, etc.\n",
    "\n",
    "\n",
    "* Create a summary data frame to hold the results\n",
    "\n",
    "\n",
    "* Optional: give the displayed data cleaner formatting\n",
    "\n",
    "\n",
    "* Display the summary data frame\n"
   ]
  },
  {
   "cell_type": "code",
   "execution_count": 360,
   "metadata": {
    "scrolled": true
   },
   "outputs": [],
   "source": [
    "# Display a statistical overview of the dfFrame\n",
    "# Run basic calculations to obtain number of unique items, average price, etc.\n",
    "\n",
    "Itemcount = len(purchase_df[\"Item ID\"].value_counts())\n",
    "#purchase_df[\"Number of Unique Items\"] = count\n",
    "#purchase_df[\"Number of Unique Items\"] \n",
    "\n",
    "avg = purchase_df[\"Price\"].mean()\n",
    "\n",
    "PriceCount = purchase_df[\"Price\"].count()\n",
    "\n",
    "Rev = purchase_df[\"Price\"].sum()"
   ]
  },
  {
   "cell_type": "code",
   "execution_count": 361,
   "metadata": {},
   "outputs": [
    {
     "data": {
      "text/html": [
       "<div>\n",
       "<style scoped>\n",
       "    .dataframe tbody tr th:only-of-type {\n",
       "        vertical-align: middle;\n",
       "    }\n",
       "\n",
       "    .dataframe tbody tr th {\n",
       "        vertical-align: top;\n",
       "    }\n",
       "\n",
       "    .dataframe thead th {\n",
       "        text-align: right;\n",
       "    }\n",
       "</style>\n",
       "<table border=\"1\" class=\"dataframe\">\n",
       "  <thead>\n",
       "    <tr style=\"text-align: right;\">\n",
       "      <th></th>\n",
       "      <th>Number of Unique Items</th>\n",
       "      <th>Average Price</th>\n",
       "      <th>Number of Purchases</th>\n",
       "      <th>Total Revenue</th>\n",
       "    </tr>\n",
       "  </thead>\n",
       "  <tbody>\n",
       "    <tr>\n",
       "      <th>0</th>\n",
       "      <td>183</td>\n",
       "      <td>$3.05</td>\n",
       "      <td>780</td>\n",
       "      <td>2379.77</td>\n",
       "    </tr>\n",
       "  </tbody>\n",
       "</table>\n",
       "</div>"
      ],
      "text/plain": [
       "   Number of Unique Items Average Price  Number of Purchases  Total Revenue\n",
       "0                     183         $3.05                  780        2379.77"
      ]
     },
     "execution_count": 361,
     "metadata": {},
     "output_type": "execute_result"
    }
   ],
   "source": [
    "# Place all of the data found into a summary DataFrame\n",
    "# Create a summary data frame to hold \"Number of Unique Items\", \"Average Price\", \"Number of Purchases\", \"Total Revenue\"\n",
    "summary_table = pd.DataFrame({\"Number of Unique Items\": Itemcount,\n",
    "                              \"Average Price\": [avg], \n",
    "                              \"Number of Purchases\": [PriceCount], \n",
    "                              \"Total Revenue\": [Rev]})\n",
    "\n",
    "#change format after calculations\n",
    "#format percentage\n",
    "#summary_table[\"Average Price\"]= summary_table[\"Average Price\"].map(\"${:.2f}\".format)\n",
    "\n",
    "summary_table"
   ]
  },
  {
   "cell_type": "markdown",
   "metadata": {},
   "source": [
    "## Gender Demographics"
   ]
  },
  {
   "cell_type": "markdown",
   "metadata": {},
   "source": [
    "* Percentage and Count of Male Players\n",
    "\n",
    "\n",
    "* Percentage and Count of Female Players\n",
    "\n",
    "\n",
    "* Percentage and Count of Other / Non-Disclosed\n",
    "\n",
    "\n"
   ]
  },
  {
   "cell_type": "code",
   "execution_count": 419,
   "metadata": {},
   "outputs": [
    {
     "data": {
      "text/html": [
       "<div>\n",
       "<style scoped>\n",
       "    .dataframe tbody tr th:only-of-type {\n",
       "        vertical-align: middle;\n",
       "    }\n",
       "\n",
       "    .dataframe tbody tr th {\n",
       "        vertical-align: top;\n",
       "    }\n",
       "\n",
       "    .dataframe thead th {\n",
       "        text-align: right;\n",
       "    }\n",
       "</style>\n",
       "<table border=\"1\" class=\"dataframe\">\n",
       "  <thead>\n",
       "    <tr style=\"text-align: right;\">\n",
       "      <th></th>\n",
       "      <th>Total Count</th>\n",
       "      <th>Percentage of Players</th>\n",
       "    </tr>\n",
       "  </thead>\n",
       "  <tbody>\n",
       "    <tr>\n",
       "      <th>Female</th>\n",
       "      <td>81</td>\n",
       "      <td>14.49</td>\n",
       "    </tr>\n",
       "    <tr>\n",
       "      <th>Male</th>\n",
       "      <td>484</td>\n",
       "      <td>83.59</td>\n",
       "    </tr>\n",
       "    <tr>\n",
       "      <th>Other / Non-Disclosed</th>\n",
       "      <td>11</td>\n",
       "      <td>1.92</td>\n",
       "    </tr>\n",
       "  </tbody>\n",
       "</table>\n",
       "</div>"
      ],
      "text/plain": [
       "                       Total Count  Percentage of Players\n",
       "Female                          81                  14.49\n",
       "Male                           484                  83.59\n",
       "Other / Non-Disclosed           11                   1.92"
      ]
     },
     "execution_count": 419,
     "metadata": {},
     "output_type": "execute_result"
    }
   ],
   "source": [
    "\n",
    "#Reduce the number of columns to only the players and their gender\n",
    "reduced_df = purchase_df[[\"SN\", \"Gender\"]]\n",
    "\n",
    "genders = reduced_df.drop_duplicates(\"SN\", keep='first', inplace=False)\n",
    "\n",
    "# The value_counts method counts unique values in a column. Excludes NA values by default but normalize is false by default. \n",
    "#Calulate the Percentage of Players\n",
    "Pcount = reduced_df[\"Gender\"].value_counts(normalize = True) * 100 #This is correct, normalize is set to true\n",
    "\n",
    "#Calucalate total number players by gender\n",
    "Gcount = genders.groupby(\"Gender\")[\"SN\"].count()\n",
    "\n",
    "#create an empty dataframe with 2 coloumns\n",
    "new_df = pd.DataFrame(columns = [\"Total Players\", \"Percentage of Players\"])\n",
    "\n",
    "#Put calculations into the empty dataframe\n",
    "new_df = pd.DataFrame({\"Total Count\": Gcount, \"Percentage of Players\": Pcount})\n",
    "\n",
    "#change format after calculations\n",
    "#format percentage\n",
    "#new_df[\"Percentage of Players\"]= new_df[\"Percentage of Players\"].map(\"{:.2f}\".format)\n",
    "\n",
    "new_df.round(2)"
   ]
  },
  {
   "cell_type": "markdown",
   "metadata": {},
   "source": [
    "\n",
    "## Purchasing Analysis (Gender)"
   ]
  },
  {
   "cell_type": "markdown",
   "metadata": {},
   "source": [
    "* Run basic calculations to obtain purchase count, avg. purchase price, avg. purchase total per person etc. by gender\n",
    "\n",
    "\n",
    "\n",
    "\n",
    "* Create a summary data frame to hold the results\n",
    "\n",
    "\n",
    "* Optional: give the displayed data cleaner formatting\n",
    "\n",
    "\n",
    "* Display the summary data frame"
   ]
  },
  {
   "cell_type": "code",
   "execution_count": 416,
   "metadata": {},
   "outputs": [
    {
     "data": {
      "text/html": [
       "<div>\n",
       "<style scoped>\n",
       "    .dataframe tbody tr th:only-of-type {\n",
       "        vertical-align: middle;\n",
       "    }\n",
       "\n",
       "    .dataframe tbody tr th {\n",
       "        vertical-align: top;\n",
       "    }\n",
       "\n",
       "    .dataframe thead th {\n",
       "        text-align: right;\n",
       "    }\n",
       "</style>\n",
       "<table border=\"1\" class=\"dataframe\">\n",
       "  <thead>\n",
       "    <tr style=\"text-align: right;\">\n",
       "      <th></th>\n",
       "      <th>Purchase Count</th>\n",
       "      <th>Average Purchase Price</th>\n",
       "      <th>Total Purchase Value</th>\n",
       "      <th>Avg Total Purchase per Person</th>\n",
       "    </tr>\n",
       "  </thead>\n",
       "  <tbody>\n",
       "    <tr>\n",
       "      <th>Other / Non-Disclosed</th>\n",
       "      <td>15</td>\n",
       "      <td>1.92</td>\n",
       "      <td>50.19</td>\n",
       "      <td>0.17</td>\n",
       "    </tr>\n",
       "    <tr>\n",
       "      <th>Female</th>\n",
       "      <td>113</td>\n",
       "      <td>14.49</td>\n",
       "      <td>361.94</td>\n",
       "      <td>0.18</td>\n",
       "    </tr>\n",
       "    <tr>\n",
       "      <th>Male</th>\n",
       "      <td>652</td>\n",
       "      <td>83.59</td>\n",
       "      <td>1967.64</td>\n",
       "      <td>0.17</td>\n",
       "    </tr>\n",
       "  </tbody>\n",
       "</table>\n",
       "</div>"
      ],
      "text/plain": [
       "                       Purchase Count  Average Purchase Price  \\\n",
       "Other / Non-Disclosed              15                    1.92   \n",
       "Female                            113                   14.49   \n",
       "Male                              652                   83.59   \n",
       "\n",
       "                       Total Purchase Value  Avg Total Purchase per Person  \n",
       "Other / Non-Disclosed                 50.19                           0.17  \n",
       "Female                               361.94                           0.18  \n",
       "Male                                1967.64                           0.17  "
      ]
     },
     "execution_count": 416,
     "metadata": {},
     "output_type": "execute_result"
    }
   ],
   "source": [
    "# Create a summary data frame to hold \"Purchase Count\", \"Average Purchase Price\", \"Total Purchase Value\" and\n",
    "# \"Avg Total Purchase per Person\"\n",
    "\n",
    "#Reduce the number of columns to only the players and their gender\n",
    "reduced_df = purchase_df[[\"SN\", \"Gender\", \"Price\"]]\n",
    "\n",
    "#Calucalate Total Purchase Value by gender\n",
    "\n",
    "genders = reduced_df[\"Gender\"].value_counts(ascending=True)\n",
    "GPrice =reduced_df.groupby(\"Gender\")[\"Price\"].sum()\n",
    "avg = reduced_df[\"Gender\"].value_counts(\"Price\") * 100 #This is correct, normalize is set to true\n",
    "tc = new_df[\"Total Count\"]\n",
    "tvp = new_df2[ \"Average Purchase Price\"]/tc\n",
    "\n",
    "#create an empty dataframe\n",
    "new_df2 = pd.DataFrame(columns = [\"Purchase Count\", \"Average Purchase Price\", \"Total Purchase Value\", \"Avg Total Purchase per Person\"])\n",
    "new_df2[\"Purchase Count\"] = genders\n",
    "new_df2[ \"Average Purchase Price\"] = avg.round(2)\n",
    "new_df2[ \"Total Purchase Value\"] = GPrice\n",
    "new_df2[ \"Avg Total Purchase per Person\"] = tvp.round(2)\n",
    "\n",
    "\n",
    "new_df2"
   ]
  },
  {
   "cell_type": "markdown",
   "metadata": {},
   "source": [
    "## Age Demographics"
   ]
  },
  {
   "cell_type": "markdown",
   "metadata": {},
   "source": [
    "* Establish bins for ages\n",
    "\n",
    "\n",
    "* Categorize the existing players using the age bins. Hint: use pd.cut()\n",
    "\n",
    "\n",
    "* Calculate the numbers and percentages by age group\n",
    "\n",
    "\n",
    "* Create a summary data frame to hold the results\n",
    "\n",
    "\n",
    "* Optional: round the percentage column to two decimal points\n",
    "\n",
    "\n",
    "* Display Age Demographics Table\n"
   ]
  },
  {
   "cell_type": "code",
   "execution_count": 428,
   "metadata": {},
   "outputs": [
    {
     "data": {
      "text/plain": [
       "(45, 7)"
      ]
     },
     "execution_count": 428,
     "metadata": {},
     "output_type": "execute_result"
    }
   ],
   "source": [
    "#Categorize the existing players using the age bins\n",
    "\n",
    "#reduce dataframe\n",
    "age_df = purchase_df[[\"Purchase ID\", \"Age\"]]\n",
    "\n",
    "\n",
    "#create an empty dataframe with  coloumns\n",
    "AgeDem_df =  pd.DataFrame(columns = [\"Players\", \"Age\"])\n",
    "\n",
    "#probably didn't need to do this but better safe than sorry\n",
    "plyrs = purchase_df.drop_duplicates(\"SN\", keep='first', inplace=False)\n",
    "\n",
    "##Put values into the empty dataframe\n",
    "AgeDem_df[\"Players\"] = plyrs[\"SN\"]\n",
    "AgeDem_df[\"Age\"] = plyrs[\"Age\"]\n",
    "\n",
    "# Figure out the minimum and maximum ages to determine bins\n",
    "max_age = purchase_df[\"Age\"].max()\n",
    "min_age = purchase_df[\"Age\"].min()\n",
    "\n",
    "max_age, min_age\n"
   ]
  },
  {
   "cell_type": "code",
   "execution_count": 429,
   "metadata": {},
   "outputs": [],
   "source": [
    "# Create bins in which to place values based upon players ages \n",
    "#(thanks Seth for your patience)\n",
    "bins = [0, 9.90, 14.90, 19.90, 24.90, 29.90, 34.90, 39.90, np.inf]\n",
    "\n",
    "# Create labels for these bins\n",
    "group_labels = [\"< 10\", \"10 to 14\", \"15 to 19\", \"20 to 24\", \"25 to 29\", \"30 to 34\",\n",
    "                \"35 to 39\", \"40+\"]"
   ]
  },
  {
   "cell_type": "code",
   "execution_count": 430,
   "metadata": {},
   "outputs": [],
   "source": [
    "# Place the sliced data into bins data series and into a new column inside of the DataFrame\n",
    "AgeDem_df[\"Age Group\"] = pd.cut(AgeDem_df[\"Age\"], bins, labels=group_labels)\n"
   ]
  },
  {
   "cell_type": "code",
   "execution_count": 431,
   "metadata": {},
   "outputs": [
    {
     "data": {
      "text/html": [
       "<div>\n",
       "<style scoped>\n",
       "    .dataframe tbody tr th:only-of-type {\n",
       "        vertical-align: middle;\n",
       "    }\n",
       "\n",
       "    .dataframe tbody tr th {\n",
       "        vertical-align: top;\n",
       "    }\n",
       "\n",
       "    .dataframe thead th {\n",
       "        text-align: right;\n",
       "    }\n",
       "</style>\n",
       "<table border=\"1\" class=\"dataframe\">\n",
       "  <thead>\n",
       "    <tr style=\"text-align: right;\">\n",
       "      <th></th>\n",
       "      <th>Age Group</th>\n",
       "      <th>Total Count</th>\n",
       "      <th>Percentage of Players</th>\n",
       "    </tr>\n",
       "  </thead>\n",
       "  <tbody>\n",
       "    <tr>\n",
       "      <th>0</th>\n",
       "      <td>&lt; 10</td>\n",
       "      <td>17</td>\n",
       "      <td>2.95</td>\n",
       "    </tr>\n",
       "    <tr>\n",
       "      <th>1</th>\n",
       "      <td>10 to 14</td>\n",
       "      <td>22</td>\n",
       "      <td>3.82</td>\n",
       "    </tr>\n",
       "    <tr>\n",
       "      <th>2</th>\n",
       "      <td>15 to 19</td>\n",
       "      <td>107</td>\n",
       "      <td>18.58</td>\n",
       "    </tr>\n",
       "    <tr>\n",
       "      <th>3</th>\n",
       "      <td>20 to 24</td>\n",
       "      <td>258</td>\n",
       "      <td>44.79</td>\n",
       "    </tr>\n",
       "    <tr>\n",
       "      <th>4</th>\n",
       "      <td>25 to 29</td>\n",
       "      <td>77</td>\n",
       "      <td>13.37</td>\n",
       "    </tr>\n",
       "    <tr>\n",
       "      <th>5</th>\n",
       "      <td>30 to 34</td>\n",
       "      <td>52</td>\n",
       "      <td>9.03</td>\n",
       "    </tr>\n",
       "    <tr>\n",
       "      <th>6</th>\n",
       "      <td>35 to 39</td>\n",
       "      <td>31</td>\n",
       "      <td>5.38</td>\n",
       "    </tr>\n",
       "    <tr>\n",
       "      <th>7</th>\n",
       "      <td>40+</td>\n",
       "      <td>12</td>\n",
       "      <td>2.08</td>\n",
       "    </tr>\n",
       "  </tbody>\n",
       "</table>\n",
       "</div>"
      ],
      "text/plain": [
       "  Age Group  Total Count  Percentage of Players\n",
       "0      < 10           17                   2.95\n",
       "1  10 to 14           22                   3.82\n",
       "2  15 to 19          107                  18.58\n",
       "3  20 to 24          258                  44.79\n",
       "4  25 to 29           77                  13.37\n",
       "5  30 to 34           52                   9.03\n",
       "6  35 to 39           31                   5.38\n",
       "7       40+           12                   2.08"
      ]
     },
     "execution_count": 431,
     "metadata": {},
     "output_type": "execute_result"
    }
   ],
   "source": [
    "#Calculate the numbers by age group\n",
    "# Create a GroupBy object based upon \"Age Group\"\n",
    "Cnt = pd.DataFrame({\"tcount\" : AgeDem_df.groupby( [ \"Age Group\"] ).size()}).reset_index()\n",
    "\n",
    "#Calculate the percentages by age group\n",
    "Cnt[\"totalc\"] = Cnt['tcount'].sum()\n",
    "\n",
    "p = Cnt.groupby('Age Group').apply(lambda x: x['tcount'].sum() /\n",
    "                                   x['totalc'].sum().astype(float)).to_dict()\n",
    "\n",
    "Cnt['p'] = Cnt['Age Group'].map(p)\n",
    "Cnt['p'] = Cnt['p'] * 100\n",
    "\n",
    "\n",
    "Cnt[\"Percentage of Players\"]= Cnt[\"p\"].round(2)\n",
    "\n",
    "#Display Age Demographics Table\n",
    "\n",
    "SummPlayers = Cnt[[\"Age Group\", \"tcount\", \"Percentage of Players\" ]]\n",
    "\n",
    "SummPlayers_table = SummPlayers.rename(columns = {\"tcount\" : \"Total Count\"})\n",
    "\n",
    "SummPlayers_table"
   ]
  },
  {
   "cell_type": "markdown",
   "metadata": {},
   "source": [
    "## Purchasing Analysis (Age)"
   ]
  },
  {
   "cell_type": "markdown",
   "metadata": {},
   "source": [
    "* Bin the purchase_data data frame by age\n",
    "\n",
    "\n",
    "* Run basic calculations to obtain purchase count, avg. purchase price, avg. purchase total per person etc. in the table below\n",
    "\n",
    "\n",
    "* Create a summary data frame to hold the results\n",
    "\n",
    "\n",
    "* Optional: give the displayed data cleaner formatting\n",
    "\n",
    "\n",
    "* Display the summary data frame"
   ]
  },
  {
   "cell_type": "code",
   "execution_count": 432,
   "metadata": {},
   "outputs": [
    {
     "data": {
      "text/html": [
       "<div>\n",
       "<style scoped>\n",
       "    .dataframe tbody tr th:only-of-type {\n",
       "        vertical-align: middle;\n",
       "    }\n",
       "\n",
       "    .dataframe tbody tr th {\n",
       "        vertical-align: top;\n",
       "    }\n",
       "\n",
       "    .dataframe thead th {\n",
       "        text-align: right;\n",
       "    }\n",
       "</style>\n",
       "<table border=\"1\" class=\"dataframe\">\n",
       "  <thead>\n",
       "    <tr style=\"text-align: right;\">\n",
       "      <th></th>\n",
       "      <th>Purchase ID</th>\n",
       "      <th>Age</th>\n",
       "      <th>Price</th>\n",
       "    </tr>\n",
       "  </thead>\n",
       "  <tbody>\n",
       "    <tr>\n",
       "      <th>0</th>\n",
       "      <td>0</td>\n",
       "      <td>20</td>\n",
       "      <td>3.53</td>\n",
       "    </tr>\n",
       "    <tr>\n",
       "      <th>1</th>\n",
       "      <td>1</td>\n",
       "      <td>40</td>\n",
       "      <td>1.56</td>\n",
       "    </tr>\n",
       "  </tbody>\n",
       "</table>\n",
       "</div>"
      ],
      "text/plain": [
       "   Purchase ID  Age  Price\n",
       "0            0   20   3.53\n",
       "1            1   40   1.56"
      ]
     },
     "execution_count": 432,
     "metadata": {},
     "output_type": "execute_result"
    }
   ],
   "source": [
    "#reduce dataframe\n",
    "reducePurch_df = purchase_df[[\"Purchase ID\", \"Age\", \"Price\"]]\n",
    "\n",
    "#create an empty dataframe with  coloumns\n",
    "PurchAgeDem_df =  pd.DataFrame(columns = [\"Age\", \"Price\"])\n",
    "PurchAgeDem_df[\"Age\"] = reducePurch_df[\"Age\"]\n",
    "PurchAgeDem_df[\"Price\"] = reducePurch_df[\"Price\"]\n",
    "\n",
    "# Figure out the minimum and maximum ages to determine bins\n",
    "max_price = reducePurch_df[\"Price\"].max()\n",
    "min_price = reducePurch_df[\"Price\"].min()\n",
    "\n",
    "#max_price, min_price\n",
    "reducePurch_df.head(2)"
   ]
  },
  {
   "cell_type": "code",
   "execution_count": 433,
   "metadata": {},
   "outputs": [],
   "source": [
    "#Bin the PurchaseAge_df data frame by age\n",
    "bins = [0, 9.90, 14.90, 19.90, 24.90, 29.90, 34.90, 39.90, np.inf]\n",
    "\n",
    "# Create labels for these bins\n",
    "group_labels = [\"< 10\", \"10 to 14\", \"15 to 19\", \"20 to 24\", \"25 to 29\", \"30 to 34\",\n",
    "                \"35 to 39\", \"40+\"]\n"
   ]
  },
  {
   "cell_type": "code",
   "execution_count": 434,
   "metadata": {},
   "outputs": [
    {
     "data": {
      "text/html": [
       "<div>\n",
       "<style scoped>\n",
       "    .dataframe tbody tr th:only-of-type {\n",
       "        vertical-align: middle;\n",
       "    }\n",
       "\n",
       "    .dataframe tbody tr th {\n",
       "        vertical-align: top;\n",
       "    }\n",
       "\n",
       "    .dataframe thead th {\n",
       "        text-align: right;\n",
       "    }\n",
       "</style>\n",
       "<table border=\"1\" class=\"dataframe\">\n",
       "  <thead>\n",
       "    <tr style=\"text-align: right;\">\n",
       "      <th></th>\n",
       "      <th>Age</th>\n",
       "      <th>Price</th>\n",
       "      <th>Age Group</th>\n",
       "    </tr>\n",
       "  </thead>\n",
       "  <tbody>\n",
       "    <tr>\n",
       "      <th>0</th>\n",
       "      <td>20</td>\n",
       "      <td>3.53</td>\n",
       "      <td>20 to 24</td>\n",
       "    </tr>\n",
       "    <tr>\n",
       "      <th>1</th>\n",
       "      <td>40</td>\n",
       "      <td>1.56</td>\n",
       "      <td>40+</td>\n",
       "    </tr>\n",
       "  </tbody>\n",
       "</table>\n",
       "</div>"
      ],
      "text/plain": [
       "   Age  Price Age Group\n",
       "0   20   3.53  20 to 24\n",
       "1   40   1.56       40+"
      ]
     },
     "execution_count": 434,
     "metadata": {},
     "output_type": "execute_result"
    }
   ],
   "source": [
    "# Place the data series into a new column inside of the DataFrame\n",
    "PurchAgeDem_df[\"Age Group\"] = pd.cut(reducePurch_df[\"Age\"], bins, labels=group_labels)\n",
    "\n",
    "PurchAgeDem_df.head(2)"
   ]
  },
  {
   "cell_type": "code",
   "execution_count": 459,
   "metadata": {},
   "outputs": [
    {
     "name": "stderr",
     "output_type": "stream",
     "text": [
      "C:\\Users\\Maria\\Anaconda3\\lib\\site-packages\\pandas\\core\\indexes\\base.py:3772: RuntimeWarning: '<' not supported between instances of 'str' and 'int', sort order is undefined for incomparable objects\n",
      "  return this.join(other, how=how, return_indexers=return_indexers)\n",
      "C:\\Users\\Maria\\Anaconda3\\lib\\site-packages\\pandas\\core\\indexes\\api.py:107: RuntimeWarning: '<' not supported between instances of 'str' and 'int', sort order is undefined for incomparable objects\n",
      "  result = result.union(other)\n"
     ]
    }
   ],
   "source": [
    "#Calculate the numbers by age group\n",
    "# Create a GroupBy object based upon \"Age Group\"\n",
    "\n",
    "#p = PurchAgeDem_df.groupby('Age Group')['Price'].agg(['count', 'mean','sum', 'max', 'min'])\n",
    " \n",
    "g_purch_tot = PurchAgeDem_df.groupby(['Age Group']).sum()['Price']\n",
    "ga = PurchAgeDem_df.groupby(['Age Group']).mean()['Price']\n",
    "gc = PurchAgeDem_df.groupby(['Age Group']).count()['Price']\n",
    "\n",
    "normalize_pc = g_purch_tot/SummPlayers_table['Total Count']\n",
    "\n",
    "\n",
    "# Using .rename(columns={}) in order to rename columns\n",
    "#SummAgeDem = p.rename(columns={\"count\":\"Purchase Count\", \"mean\": \"Average Purchase Price\", \"sum\":\"Total Purchase Value\"})\n",
    "SummAgeDem = (pd.DataFrame(data={\n",
    "    \"Purchase Count\": gc,\n",
    "    \"Average Purchase Price\": ga,\n",
    "    \"Total Purchase Value\": g_purch_tot,\n",
    "    \"Avg Total Purchase per Person\": normalize_pc\n",
    "})\n",
    "             .round(2)\n",
    "             )\n",
    "\n",
    "#SummAgeDem['Avg Total Purchase per Person'] = SummAgeDem['Total Purchase Value']/tpa\n",
    "SummAgeDem = SummAgeDem.loc[:,[\"Purchase Count\", \"Average Purchase Price\", \"Total Purchase Value\", \"Avg Total Purchase per Person\"]]\n",
    "#Display Purchasing Analysis (Age) Table\n",
    "#SummAgeDem.round(2)\n",
    "#g_purch_tot\n",
    "####I've added the max and min just until I figure out how to calculate the 'Avg Total Purchase per Person'"
   ]
  },
  {
   "cell_type": "markdown",
   "metadata": {},
   "source": [
    "## Top Spenders"
   ]
  },
  {
   "cell_type": "markdown",
   "metadata": {},
   "source": [
    "* Run basic calculations to obtain the results in the table below\n",
    "\n",
    "\n",
    "* Create a summary data frame to hold the results\n",
    "\n",
    "\n",
    "* Sort the total purchase value column in descending order\n",
    "\n",
    "\n",
    "* Optional: give the displayed data cleaner formatting\n",
    "\n",
    "\n",
    "* Display a preview of the summary data frame\n",
    "\n"
   ]
  },
  {
   "cell_type": "code",
   "execution_count": null,
   "metadata": {},
   "outputs": [],
   "source": []
  },
  {
   "cell_type": "markdown",
   "metadata": {},
   "source": [
    "## Most Popular Items"
   ]
  },
  {
   "cell_type": "markdown",
   "metadata": {},
   "source": [
    "* Retrieve the Item ID, Item Name, and Item Price columns\n",
    "\n",
    "\n",
    "* Group by Item ID and Item Name. Perform calculations to obtain purchase count, item price, and total purchase value\n",
    "\n",
    "\n",
    "* Create a summary data frame to hold the results\n",
    "\n",
    "\n",
    "* Sort the purchase count column in descending order\n",
    "\n",
    "\n",
    "* Optional: give the displayed data cleaner formatting\n",
    "\n",
    "\n",
    "* Display a preview of the summary data frame\n",
    "\n"
   ]
  },
  {
   "cell_type": "code",
   "execution_count": null,
   "metadata": {},
   "outputs": [],
   "source": []
  },
  {
   "cell_type": "markdown",
   "metadata": {},
   "source": [
    "## Most Profitable Items"
   ]
  },
  {
   "cell_type": "markdown",
   "metadata": {},
   "source": [
    "* Sort the above table by total purchase value in descending order\n",
    "\n",
    "\n",
    "* Optional: give the displayed data cleaner formatting\n",
    "\n",
    "\n",
    "* Display a preview of the data frame\n",
    "\n"
   ]
  },
  {
   "cell_type": "code",
   "execution_count": null,
   "metadata": {
    "scrolled": true
   },
   "outputs": [],
   "source": []
  }
 ],
 "metadata": {
  "anaconda-cloud": {},
  "kernel_info": {
   "name": "python3"
  },
  "kernelspec": {
   "display_name": "Python 3",
   "language": "python",
   "name": "python3"
  },
  "language_info": {
   "codemirror_mode": {
    "name": "ipython",
    "version": 3
   },
   "file_extension": ".py",
   "mimetype": "text/x-python",
   "name": "python",
   "nbconvert_exporter": "python",
   "pygments_lexer": "ipython3",
   "version": "3.7.0"
  },
  "nteract": {
   "version": "0.2.0"
  }
 },
 "nbformat": 4,
 "nbformat_minor": 2
}
